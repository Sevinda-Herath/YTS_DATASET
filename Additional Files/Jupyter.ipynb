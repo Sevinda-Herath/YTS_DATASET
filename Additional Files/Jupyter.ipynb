{
 "cells": [
  {
   "cell_type": "code",
   "execution_count": 1,
   "metadata": {},
   "outputs": [],
   "source": [
    "\"\"\"\n",
    "Imports:\n",
    "    pandas as pd: This import statement brings in the pandas library, which is a powerful data manipulation and analysis tool for Python.\n",
    "\n",
    "Usage:\n",
    "    This script likely uses pandas to read, manipulate, and analyze data related to the YTS dataset.\n",
    "\n",
    "Note:\n",
    "    Ensure that the pandas library is installed in your Python environment before running this script.\n",
    "\"\"\"\n",
    "import pandas as pd\n"
   ]
  },
  {
   "cell_type": "code",
   "execution_count": 2,
   "metadata": {},
   "outputs": [],
   "source": [
    "\"\"\"\n",
    "This script reads two CSV files, 'dataset_1.csv' and 'dataset_2.csv', into pandas DataFrames.\n",
    "\n",
    "Variables:\n",
    "    df1 (pd.DataFrame): DataFrame containing data from 'dataset_1.csv'.\n",
    "    df2 (pd.DataFrame): DataFrame containing data from 'dataset_2.csv'.\n",
    "\"\"\"\n",
    "\n",
    "df1 = pd.read_csv('Original_Dataset_1.csv')\n",
    "df2 = pd.read_csv('Original_Dataset_2.csv')"
   ]
  },
  {
   "cell_type": "code",
   "execution_count": 3,
   "metadata": {},
   "outputs": [],
   "source": [
    "# Combine the two dataframes\n",
    "combined_df = pd.concat([df1, df2])\n",
    "\n",
    "# Drop duplicate rows based on the 'URL' column\n",
    "combined_df = combined_df.drop_duplicates(subset='URL')\n"
   ]
  },
  {
   "cell_type": "code",
   "execution_count": 4,
   "metadata": {},
   "outputs": [],
   "source": [
    "# Drop the 'key' column\n",
    "combined_df = combined_df.drop(columns=['key'])"
   ]
  },
  {
   "cell_type": "code",
   "execution_count": 5,
   "metadata": {},
   "outputs": [],
   "source": [
    "# Split the \"Genres\" column into a list based on \" / \" delimiter\n",
    "combined_df['GenreList'] = combined_df['Genres'].str.split(' / ')"
   ]
  },
  {
   "cell_type": "code",
   "execution_count": 6,
   "metadata": {},
   "outputs": [],
   "source": [
    "# Get all unique genres across the entire dataset\n",
    "all_genres = sorted(set(genre for sublist in combined_df['GenreList'] for genre in sublist))\n"
   ]
  },
  {
   "cell_type": "code",
   "execution_count": 7,
   "metadata": {},
   "outputs": [],
   "source": [
    "# Create a temporary DataFrame to store genre columns\n",
    "genre_columns = pd.DataFrame()\n",
    "\n",
    "# Populate the genre columns with 1s and 0s for each genre\n",
    "for genre in all_genres:\n",
    "    genre_columns[genre] = combined_df['GenreList'].apply(lambda x: 1 if genre in x else 0)\n",
    "\n",
    "# Append genre columns to the original DataFrame\n",
    "combined_df = pd.concat([combined_df, genre_columns], axis=1)\n",
    "\n",
    "# Drop the temporary 'GenreList' column from the DataFrame\n",
    "combined_df = combined_df.drop(columns=['GenreList'])"
   ]
  },
  {
   "cell_type": "code",
   "execution_count": 8,
   "metadata": {},
   "outputs": [],
   "source": [
    "# Define the desired order of columns\n",
    "desired_order = ['Movie_Title', 'Movie_Director', 'Released_Year', 'Runtime', 'IMDb_Rating', 'IMDb_Votes', 'YTS_Likes', 'Uploader', 'Uploaded_Time', 'URL', 'Seeds','Genres'] + all_genres"
   ]
  },
  {
   "cell_type": "code",
   "execution_count": 9,
   "metadata": {},
   "outputs": [],
   "source": [
    "# Rearrange the columns in the DataFrame\n",
    "combined_df = combined_df.reindex(columns=desired_order)"
   ]
  },
  {
   "cell_type": "code",
   "execution_count": 10,
   "metadata": {},
   "outputs": [
    {
     "data": {
      "text/plain": [
       "Movie_Title       12149\n",
       "Movie_Director    12145\n",
       "Released_Year     12149\n",
       "Runtime           12149\n",
       "IMDb_Rating       12144\n",
       "IMDb_Votes        12144\n",
       "YTS_Likes         12065\n",
       "Uploader          12149\n",
       "Uploaded_Time     12132\n",
       "URL               12149\n",
       "Seeds              1051\n",
       "Genres            12149\n",
       "Action            12149\n",
       "Adventure         12149\n",
       "Animation         12149\n",
       "Biography         12149\n",
       "Comedy            12149\n",
       "Crime             12149\n",
       "Documentary       12149\n",
       "Drama             12149\n",
       "Family            12149\n",
       "Fantasy           12149\n",
       "Film-Noir         12149\n",
       "Game-Show         12149\n",
       "History           12149\n",
       "Horror            12149\n",
       "Music             12149\n",
       "Musical           12149\n",
       "Mystery           12149\n",
       "News              12149\n",
       "Reality-TV        12149\n",
       "Romance           12149\n",
       "Sci-Fi            12149\n",
       "Sport             12149\n",
       "Talk-Show         12149\n",
       "Thriller          12149\n",
       "War               12149\n",
       "Western           12149\n",
       "dtype: int64"
      ]
     },
     "execution_count": 10,
     "metadata": {},
     "output_type": "execute_result"
    }
   ],
   "source": [
    "# Check for missing values in the DataFrame\n",
    "combined_df.notnull().sum()"
   ]
  },
  {
   "cell_type": "code",
   "execution_count": 11,
   "metadata": {},
   "outputs": [],
   "source": [
    "# Fill missing values with 0\n",
    "combined_df = combined_df.fillna(0)"
   ]
  },
  {
   "cell_type": "code",
   "execution_count": 12,
   "metadata": {},
   "outputs": [],
   "source": [
    "# Sort the DataFrame by 'Movie_Title' in ascending order\n",
    "combined_df = combined_df.sort_values(by='Movie_Title', ascending=True)"
   ]
  },
  {
   "cell_type": "code",
   "execution_count": 13,
   "metadata": {},
   "outputs": [],
   "source": [
    "# Save the combined DataFrame to a new CSV file\n",
    "combined_df.to_csv('Combined_Dataset.csv', index=False)"
   ]
  }
 ],
 "metadata": {
  "kernelspec": {
   "display_name": ".venv",
   "language": "python",
   "name": "python3"
  },
  "language_info": {
   "codemirror_mode": {
    "name": "ipython",
    "version": 3
   },
   "file_extension": ".py",
   "mimetype": "text/x-python",
   "name": "python",
   "nbconvert_exporter": "python",
   "pygments_lexer": "ipython3",
   "version": "3.11.2"
  }
 },
 "nbformat": 4,
 "nbformat_minor": 2
}
